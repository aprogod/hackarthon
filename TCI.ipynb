{
 "cells": [
  {
   "cell_type": "markdown",
   "metadata": {},
   "source": [
    "# 주가지수만들기\n",
    "--------------\n",
    "<STEP 1>\n",
    "   1. TCI 지수 선정 : 일일 확진자(과거데이터 가중치{EMA,MA등 사용}, 거리두기 단계(1~4단계), Additional Wieghted_Value : 누적사망자/누적확진자)\n",
    "   > (누적사망자/누적확진자) 가 클수록 코로나의 위험도가 증가한다고 판단하여 가중치 값으로 선정\n",
    "   2. TCI 지수와 코스피, 코스닥 움직임 상관관계 예측\n",
    "---------------\n",
    "<STEP 2>\n",
    "   1. TCI 지수 산출을 위한 데이터 만들기 ('2020.03.10' ~ '2022.02.28')\n",
    "   > 지수 산출방법 : ```(추가로더적을 부분)``` 4번까지 한다음에 다시 피드백해서 정하기\n",
    "   2. 코스피, 코스닥 동기간 종가 불러오기\n",
    "   3. 임의로 만든 TCI와 KOSPI & KOSDAQ 상관관계 비교\n",
    "   4. 산업군별로 데이터분석\n",
    "      > 상관성 높은 산업군에서 예측모델 사용권장\n",
    "      ``예측은 아마도 헬스케어는 + , 운송업은 -``"
   ]
  },
  {
   "cell_type": "code",
   "execution_count": 1,
   "metadata": {},
   "outputs": [],
   "source": [
    "import pandas as pd\n",
    "import numpy as np\n",
    "import FinanceDataReader as fdr\n",
    "from datetime import datetime\n",
    "from scipy import interpolate\n",
    "\n",
    "import warnings\n",
    "warnings.filterwarnings('ignore')"
   ]
  },
  {
   "cell_type": "code",
   "execution_count": 2,
   "metadata": {},
   "outputs": [],
   "source": [
    "# Assign Corona.csv to df\n",
    "df = pd.read_csv('./datasets/Corona.csv')\n",
    "dist = pd.read_excel('./datasets/Dist.xlsx')\n",
    "Unemp = pd.read_excel('./datasets/실업자.xlsx')"
   ]
  },
  {
   "cell_type": "markdown",
   "metadata": {},
   "source": [
    "# Preprocessing Corona Data"
   ]
  },
  {
   "cell_type": "code",
   "execution_count": 3,
   "metadata": {},
   "outputs": [],
   "source": [
    "# Preprocessing Corona Data\n",
    "df.columns = [\"1\", 'Date', 'DeadCnt', 'ConfirmedCnt', \"2\", \"3\", \"4\", \"5\", \"6\", \"7\"]\n",
    "dist.columns = ['Date', 'Level']\n",
    "df.drop([str(i) for i in range(1,8)],axis=1,inplace=True) # Drop Unecessary Columns\n",
    "df = df.sort_values('Date') # Sorting DATE\n",
    "df['DailyDeadCnt'] = (df['DeadCnt']-df['DeadCnt'].shift(1)).fillna(0) # Create DailyDeadCnt by using difference & fill NAN by 0\n",
    "df['DailyConfirmedCnt'] = (df['ConfirmedCnt']-df['ConfirmedCnt'].shift(1)).fillna(0) # Create DailyConfirmedCnt by using difference & fill NAN by 0\n",
    "df['D/C(%)'] = (df['DeadCnt']/df['ConfirmedCnt'])*100 # Create D/C\n",
    "df.drop(['DeadCnt','ConfirmedCnt'],axis=1,inplace=True) # Drop Unecessary Columns\n",
    "df.reset_index(drop=True, inplace=True) # Reset index\n",
    "df['Date'] = df['Date'].str[0:4] + \"-\" + df['Date'].str[5:7] + \"-\" +df['Date'].str[8:10] # Change Date style YYYY-MM-DD\n",
    "df['Date'] = pd.to_datetime(df['Date'],infer_datetime_format=True) # Change datatype from object to datetime\n",
    "\n",
    "# Add Corona Level\n",
    "df = pd.merge(df, dist, left_on='Date', right_on='Date', how = 'left') # Merge df & Corona Level\n",
    "df.fillna(3, inplace=True) # ALL NAN index in Level column fill 3\n",
    "\n",
    "# Add Number of Unemployed\n",
    "Unemp['Date'] = pd.to_datetime(Unemp['Date']) # Change datatype from object to datetime\n",
    "df = pd.merge(df, Unemp, left_on='Date', right_on='Date', how='left') # Merge Unemp & df\n",
    "df['Num'] = df['Num'].interpolate(method='values') # Interpolate Num"
   ]
  },
  {
   "cell_type": "markdown",
   "metadata": {},
   "source": [
    "# Preprocessing stock index"
   ]
  },
  {
   "cell_type": "code",
   "execution_count": 4,
   "metadata": {},
   "outputs": [],
   "source": [
    "# Read_csv\n",
    "Kospi = pd.read_csv('./datasets/Kospi.csv')\n",
    "Kodaq = pd.read_csv(('./datasets/Kodaq.csv'))\n",
    "Bio = pd.read_csv(('./datasets/Bio.csv'))\n",
    "Hc = pd.read_csv(('./datasets/Hc.csv'))\n",
    "Trans = pd.read_csv(('./datasets/Trans.csv'))\n",
    "Multi_Index = pd.read_csv('./datasets/makeup_travel_flight_index.csv')"
   ]
  },
  {
   "cell_type": "code",
   "execution_count": 5,
   "metadata": {},
   "outputs": [],
   "source": [
    "# Change Columns Name\n",
    "Bio.columns = ['Date', 'Open', 'High', 'Low', 'Close', 'Volume', 'TA']\n",
    "Hc.columns = ['Date', 'Open', 'High', 'Low', 'Close', 'Volume', 'TA']\n",
    "Trans.columns = ['Date', 'Open', 'High', 'Low', 'Close', 'Volume', 'TA']\n",
    "Multi_Index.columns = ['Date', 'MakeUp', 'Trav', 'Flight']"
   ]
  },
  {
   "cell_type": "code",
   "execution_count": 6,
   "metadata": {},
   "outputs": [],
   "source": [
    "Target_list_df = [Kospi, Kodaq, Bio, Hc, Trans, Multi_Index]\n",
    "for i, col in enumerate(Target_list_df):\n",
    "    col['Date'] = pd.to_datetime(col['Date'],infer_datetime_format=True)\n",
    "    col.set_index('Date', inplace=True)"
   ]
  },
  {
   "cell_type": "code",
   "execution_count": 7,
   "metadata": {},
   "outputs": [],
   "source": [
    "# Preprocessing\n",
    "df_c = df\n",
    "sp_str = ['Kospi', 'Kosdq', 'Bio', 'Hc', 'Trans']\n",
    "sp_df = [Kospi, Kodaq, Bio, Hc, Trans]\n",
    "\n",
    "for i, col in enumerate(sp_df): # Merge Kospi & Kodaq into df_c\n",
    "    corona_df = pd.merge(df_c, col['Close'], left_on='Date', right_on=col.index, how='inner')\n",
    "    corona_df.rename(columns={'Close': sp_str[i]}, inplace=True)\n",
    "    df_c = corona_df\n",
    "\n",
    "corona_df['Num'].bfill(inplace=True)\n",
    "\n",
    "corona_df = pd.merge(corona_df, Multi_Index, left_on='Date', right_on=Multi_Index.index, how='left')"
   ]
  },
  {
   "cell_type": "code",
   "execution_count": 8,
   "metadata": {},
   "outputs": [],
   "source": [
    "Feature = corona_df.iloc[:,0:6]\n",
    "Target = corona_df.drop(corona_df.columns[1:6], axis=1)"
   ]
  },
  {
   "cell_type": "markdown",
   "metadata": {},
   "source": [
    "# EWM"
   ]
  },
  {
   "cell_type": "code",
   "execution_count": 10,
   "metadata": {},
   "outputs": [],
   "source": [
    "df_reversed = Feature.sort_index(ascending=False)\n",
    "df_reversed = df_reversed.assign(DCC_ewm=df_reversed['DailyConfirmedCnt'].ewm(span=5).mean())\n",
    "Feature = Feature.assign(DCC_ewm=df_reversed['DCC_ewm'])\n",
    "cd_p = Feature"
   ]
  },
  {
   "cell_type": "markdown",
   "metadata": {},
   "source": [
    "# LogScale"
   ]
  },
  {
   "cell_type": "code",
   "execution_count": 11,
   "metadata": {},
   "outputs": [],
   "source": [
    "cd_p['DCC_ewm'] = np.log1p(cd_p['DCC_ewm'])\n",
    "cd_p['DailyConfirmedCnt'] = np.log1p(cd_p['DailyConfirmedCnt'])"
   ]
  },
  {
   "cell_type": "code",
   "execution_count": 189,
   "metadata": {},
   "outputs": [],
   "source": [
    "# cd_p['DCC_ewm'] = cd_p['DCC_ewm'] * cd_p['Level']\n",
    "# cd_p.drop('Level', axis=1)"
   ]
  },
  {
   "cell_type": "markdown",
   "metadata": {},
   "source": [
    "# Train & Test"
   ]
  },
  {
   "cell_type": "code",
   "execution_count": 12,
   "metadata": {},
   "outputs": [],
   "source": [
    "from sklearn.model_selection import train_test_split\n",
    "import reg_model\n",
    "import score_model\n",
    "from imp import reload\n",
    "reload(reg_model)\n",
    "reload(score_model)\n",
    "\n",
    "corona_feature1 = cd_p[['DailyDeadCnt', 'DCC_ewm', 'D/C(%)', 'Level', 'Num']]\n",
    "corona_feature2 = cd_p[['DailyDeadCnt', 'DCC_ewm', 'D/C(%)', 'Level']]\n",
    "corona_target = Target['Flight'] # Select target\n",
    "\n",
    "sample = []\n",
    "for i in range(2):\n",
    "    globals()[f'X_train{i+1}, X_test{i+1}, y_train{i+1}, y_test{i+1}'] = train_test_split(globals()[f'corona_feature{i+1}'], corona_target, test_size=0.3, random_state=0)\n",
    "    sample.append(globals()[f'X_train{i+1}, X_test{i+1}, y_train{i+1}, y_test{i+1}'])"
   ]
  },
  {
   "cell_type": "code",
   "execution_count": 13,
   "metadata": {},
   "outputs": [],
   "source": [
    "rg = reg_model.RegALL()\n",
    "sm = score_model.ScoreALL()"
   ]
  },
  {
   "cell_type": "markdown",
   "metadata": {},
   "source": [
    "* Multiple Regression Pred & Score For Single Index"
   ]
  },
  {
   "cell_type": "code",
   "execution_count": 14,
   "metadata": {},
   "outputs": [],
   "source": [
    "# Create Regression pred & score \n",
    "pred_list_df = []\n",
    "score_list_df = []\n",
    "FI_list_df = []\n",
    "pred_list = []\n",
    "score_list = []\n",
    "reg_list = ['linreg', 'Logreg', 'Las', 'Rid', 'Elastic', 'RFR', 'XGBR']\n",
    "rgm = [rg.Linreg, rg.Logreg, rg.Las, rg.Rid, rg.Elastic, rg.RFR, rg.XGBR]\n",
    "for j in range(2):\n",
    "    for i,name in enumerate(reg_list): # Chose Number of Sample\n",
    "        globals()[f'pred_{reg_list[i]}'], globals()[f'score_{reg_list[i]}'] = rgm[i](sample[j][0], sample[j][1], sample[j][2], pred=True, score=True)\n",
    "\n",
    "        pred_list.append(globals()[f'pred_{reg_list[i]}'])\n",
    "        score_list.append(globals()[f'score_{reg_list[i]}'])\n",
    "\n",
    "    fit_RFR = rg.RFR(sample[j][0], sample[j][1], sample[j][2], feature_importances_=True)\n",
    "    fit_XGBR = rg.XGBR(sample[j][0], sample[j][1], sample[j][2], feature_importances_=True)\n",
    "    FI_list_df.append([fit_RFR, fit_XGBR])\n",
    "        \n",
    "    pred_list_df.append(pred_list)\n",
    "    score_list_df.append(score_list)\n",
    "    pred_list = []\n",
    "    score_list = [] "
   ]
  },
  {
   "cell_type": "code",
   "execution_count": 15,
   "metadata": {},
   "outputs": [
    {
     "name": "stdout",
     "output_type": "stream",
     "text": [
      "\n",
      " <pred_linreg #1>\n",
      "r2_score : 0.6416\n",
      "explained_variance_score : 0.6454\n",
      "pred_linreg score : 0.7059\n",
      "\n",
      " <pred_Logreg #1>\n",
      "r2_score : 0.2122\n",
      "explained_variance_score : 0.2730\n",
      "pred_Logreg score : 0.0765\n",
      "\n",
      " <pred_Las #1>\n",
      "r2_score : 0.6723\n",
      "explained_variance_score : 0.6743\n",
      "pred_Las score : 0.6993\n",
      "\n",
      " <pred_Rid #1>\n",
      "r2_score : 0.6442\n",
      "explained_variance_score : 0.6479\n",
      "pred_Rid score : 0.7058\n",
      "\n",
      " <pred_Elastic #1>\n",
      "r2_score : 0.6516\n",
      "explained_variance_score : 0.6533\n",
      "pred_Elastic score : 0.6836\n",
      "\n",
      " <pred_RFR #1>\n",
      "r2_score : 0.9741\n",
      "explained_variance_score : 0.9742\n",
      "pred_RFR score : 0.9962\n",
      "\n",
      " <pred_XGBR #1>\n",
      "r2_score : 0.9777\n",
      "explained_variance_score : 0.9781\n",
      "pred_XGBR score : 1.0\n",
      "\n",
      " <pred_linreg #2>\n",
      "r2_score : 0.5977\n",
      "explained_variance_score : 0.6041\n",
      "pred_linreg score : 0.6988\n",
      "\n",
      " <pred_Logreg #2>\n",
      "r2_score : 0.3616\n",
      "explained_variance_score : 0.3791\n",
      "pred_Logreg score : 0.1176\n",
      "\n",
      " <pred_Las #2>\n",
      "r2_score : 0.6150\n",
      "explained_variance_score : 0.6204\n",
      "pred_Las score : 0.6945\n",
      "\n",
      " <pred_Rid #2>\n",
      "r2_score : 0.6002\n",
      "explained_variance_score : 0.6064\n",
      "pred_Rid score : 0.6987\n",
      "\n",
      " <pred_Elastic #2>\n",
      "r2_score : 0.5926\n",
      "explained_variance_score : 0.5977\n",
      "pred_Elastic score : 0.6697\n",
      "\n",
      " <pred_RFR #2>\n",
      "r2_score : 0.9553\n",
      "explained_variance_score : 0.9556\n",
      "pred_RFR score : 0.9899\n",
      "\n",
      " <pred_XGBR #2>\n",
      "r2_score : 0.9584\n",
      "explained_variance_score : 0.9585\n",
      "pred_XGBR score : 1.0\n"
     ]
    }
   ],
   "source": [
    "# Listing for scoring\n",
    "pred_list_name = ['pred_linreg', 'pred_Logreg', 'pred_Las', 'pred_Rid', 'pred_Elastic', 'pred_RFR', 'pred_XGBR']\n",
    "\n",
    "# r2_score, explained_variance_score  \n",
    "for j in range(2): # Chose Number of Sample   \n",
    "    for i in range(len(pred_list_name)):\n",
    "        print(f\"\\n <{pred_list_name[i]} #{j+1}>\")\n",
    "        sm.r2_(sample[j][3],pred_list_df[j][i])\n",
    "        sm.evs_(sample[j][3],pred_list_df[j][i])\n",
    "        print(f'{pred_list_name[i]} score : {score_list_df[j][i]}')"
   ]
  },
  {
   "cell_type": "markdown",
   "metadata": {},
   "source": [
    "* feature_importances_"
   ]
  },
  {
   "cell_type": "code",
   "execution_count": 16,
   "metadata": {},
   "outputs": [
    {
     "data": {
      "image/png": "[encoded data removed]",
      "text/plain": [
       "<Figure size 576x432 with 1 Axes>"
      ]
     },
     "metadata": {},
     "output_type": "display_data"
    },
    {
     "data": {
      "image/png": "[encoded data removed]",
      "text/plain": [
       "<Figure size 576x432 with 1 Axes>"
      ]
     },
     "metadata": {},
     "output_type": "display_data"
    },
    {
     "data": {
      "image/png": "[encoded data removed]",
      "text/plain": [
       "<Figure size 576x432 with 1 Axes>"
      ]
     },
     "metadata": {},
     "output_type": "display_data"
    },
    {
     "data": {
      "image/png": "[encoded data removed]",
      "text/plain": [
       "<Figure size 576x432 with 1 Axes>"
      ]
     },
     "metadata": {},
     "output_type": "display_data"
    }
   ],
   "source": [
    "import matplotlib.pyplot as plt\n",
    "import seaborn as sns\n",
    "\n",
    "for i in range(len(FI_list_df)):\n",
    "    for j in range(len(FI_list_df[0])):\n",
    "        importances_values = FI_list_df[i][j].feature_importances_\n",
    "        importances = pd.Series(importances_values, index = sample[i][0].columns)\n",
    "\n",
    "        plt.figure(figsize=(8,6), facecolor='w')\n",
    "        # plt.subplot(i+1,j+1,4)\n",
    "        sns.barplot(x=importances_values, y=importances.index)\n",
    "\n",
    "    "
   ]
  },
  {
   "cell_type": "code",
   "execution_count": 207,
   "metadata": {},
   "outputs": [
    {
     "data": {
      "text/plain": [
       "Index(['Kospi', 'Kosdq', 'Bio', 'Hc', 'Trans', 'MakeUp', 'Trav', 'Flight'], dtype='object')"
      ]
     },
     "execution_count": 207,
     "metadata": {},
     "output_type": "execute_result"
    }
   ],
   "source": [
    "Target.columns[1:]"
   ]
  },
  {
   "cell_type": "markdown",
   "metadata": {},
   "source": [
    "* Single Regression Pred & Score For Multiple Index"
   ]
  },
  {
   "cell_type": "code",
   "execution_count": 17,
   "metadata": {},
   "outputs": [
    {
     "name": "stdout",
     "output_type": "stream",
     "text": [
      " <Kospi>\n",
      "r2_score : 0.4900\n",
      "pred_linreg score : 0.5851\n",
      " <Kosdq>\n",
      "r2_score : 0.4432\n",
      "pred_linreg score : 0.5415\n",
      " <Bio>\n",
      "r2_score : 0.2306\n",
      "pred_linreg score : 0.2099\n",
      " <Hc>\n",
      "r2_score : 0.2612\n",
      "pred_linreg score : 0.2211\n",
      " <Trans>\n",
      "r2_score : 0.3683\n",
      "pred_linreg score : 0.4484\n",
      " <MakeUp>\n",
      "r2_score : 0.3810\n",
      "pred_linreg score : 0.3942\n",
      " <Trav>\n",
      "r2_score : 0.3935\n",
      "pred_linreg score : 0.4725\n",
      " <Flight>\n",
      "r2_score : 0.6416\n",
      "pred_linreg score : 0.7059\n"
     ]
    }
   ],
   "source": [
    "corona_feature = cd_p[['DailyDeadCnt', 'DCC_ewm', 'D/C(%)', 'Level', 'Num']]\n",
    "sample = []\n",
    "corona_target = Target.iloc[:,1:]\n",
    "for i in range(len(corona_target.columns)):\n",
    "    X_train, X_test, y_train, y_test = train_test_split(corona_feature, corona_target.iloc[:,i], test_size=0.3, random_state=0)\n",
    "    sample.append([X_train, X_test, y_train, y_test])\n",
    "\n",
    "# Create Regression pred & score\n",
    "pred_list_df = []\n",
    "score_list_df = []\n",
    "FI_list_df = []\n",
    "for i in range(len(corona_target.columns)): # Chose Number of Sample\n",
    "    pred_linreg, score_linreg = rg.Linreg(sample[i][0], sample[i][1], sample[i][2], pred=True, score=True)\n",
    "    # pred_Logreg, score_Logreg = rg.Logreg(sample[i][0], sample[i][1], sample[i][2], pred=True, score=True)\n",
    "    # pred_Las, score_Las = rg.Las(sample[i][0], sample[i][1], sample[i][2], pred=True, score=True)\n",
    "    # pred_Rid, score_Rid = rg.Rid(sample[i][0], sample[i][1], sample[i][2], pred=True, score=True)\n",
    "    # pred_Elastic, score_Elastic = rg.Elastic(sample[i][0], sample[i][1], sample[i][2], pred=True, score=True)\n",
    "    # pred_RFR, score_RFR = rg.RFR(sample[i][0], sample[i][1], sample[i][2], pred=True, score=True)\n",
    "    # pred_XGBR, score_XGBR = rg.XGBR(sample[i][0], sample[i][1], sample[i][2], pred=True, score=True)\n",
    "\n",
    "    pred_list_df.append(pred_linreg)\n",
    "    score_list_df.append(score_linreg)\n",
    "\n",
    "    # pred_list_df.append([pred_linreg, pred_Logreg, pred_Las, pred_Rid, pred_Elastic, pred_RFR, pred_XGBR])\n",
    "    # score_list_df.append([score_linreg, score_Logreg, score_Las, score_Rid, score_Elastic, score_RFR, score_XGBR])\n",
    "\n",
    "    fit_RFR = rg.RFR(sample[i][0], sample[i][1], sample[i][2], feature_importances_=True)\n",
    "    fit_XGBR = rg.XGBR(sample[i][0], sample[i][1], sample[i][2], feature_importances_=True)\n",
    "\n",
    "    FI_list_df.append([fit_RFR, fit_XGBR])\n",
    "\n",
    "# Listing for scoring\n",
    "pred_list_name = ['pred_linreg']\n",
    "# pred_list_name = ['pred_linreg', 'pred_Logreg', 'pred_Las', 'pred_Rid', 'pred_Elastic', 'pred_RFR', 'pred_XGBR']\n",
    "\n",
    "# r2_score, explained_variance_score  \n",
    "for j in range(len(corona_target.columns)): # Chose Number of Sample   \n",
    "    for i in range(len(pred_list_name)):\n",
    "        print(f\" <{corona_target.columns[j]}>\")\n",
    "        sm.r2_(sample[j][3],pred_list_df[j])\n",
    "        # sm.evs_(sample[j][3],pred_list_df[j])\n",
    "        print(f'{pred_list_name[i]} score : {score_list_df[j]}')"
   ]
  },
  {
   "cell_type": "code",
   "execution_count": null,
   "metadata": {},
   "outputs": [],
   "source": []
  }
 ],
 "metadata": {
  "interpreter": {
   "hash": "8d3a68eede2cceb1eacb5149b1db1c5d1603031fd99060d6db31a21913c926e4"
  },
  "kernelspec": {
   "display_name": "Python 3.10.2 64-bit",
   "language": "python",
   "name": "python3"
  },
  "language_info": {
   "codemirror_mode": {
    "name": "ipython",
    "version": 3
   },
   "file_extension": ".py",
   "mimetype": "text/x-python",
   "name": "python",
   "nbconvert_exporter": "python",
   "pygments_lexer": "ipython3",
   "version": "3.10.2"
  },
  "orig_nbformat": 4
 },
 "nbformat": 4,
 "nbformat_minor": 2
}
